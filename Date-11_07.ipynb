{
 "cells": [
  {
   "cell_type": "code",
   "execution_count": 1,
   "metadata": {},
   "outputs": [
    {
     "name": "stdout",
     "output_type": "stream",
     "text": [
      "Enter a string : shermila\n",
      "Even characters are :  ['s', 'e', 'm', 'l'] Odd characters are :  ['h', 'r', 'i', 'a']\n"
     ]
    }
   ],
   "source": [
    "#1. #Separate odd and even of string\n",
    "str = input(\"Enter a string : \")\n",
    "even = []\n",
    "odd = []\n",
    "for s in str:\n",
    "    if str.index(s)%2 ==0:\n",
    "        even.append(s)\n",
    "    else:\n",
    "        odd.append(s)\n",
    "print(\"Even characters are : \",even,\"Odd characters are : \",odd)\n"
   ]
  },
  {
   "cell_type": "code",
   "execution_count": 2,
   "metadata": {},
   "outputs": [
    {
     "name": "stdout",
     "output_type": "stream",
     "text": [
      "ENter first name : shermi\n",
      "ENter second name : noush\n",
      "snhoeursmh\n"
     ]
    }
   ],
   "source": [
    "#2. CLub string together - John, Jame - JJoahme\n",
    "n1 = input(\"ENter first name : \")\n",
    "n2 = input(\"ENter second name : \")\n",
    "n3 = []\n",
    "st =''\n",
    "if len(n1)>len(n2):\n",
    "    l = len(n1)\n",
    "else:\n",
    "    l=len(n2)\n",
    "\n",
    "for i in range(0,l-1):\n",
    "    n3.append(n1[i]+n2[i])\n",
    "       \n",
    "st = ''.join(n3)\n",
    "print(st)"
   ]
  },
  {
   "cell_type": "code",
   "execution_count": 3,
   "metadata": {},
   "outputs": [
    {
     "name": "stdout",
     "output_type": "stream",
     "text": [
      "Enter a string : 09wewzaq76\n",
      "0679aeqwwz\n"
     ]
    }
   ],
   "source": [
    "#3. B4A1D3 - sort alphabte and numbers seperately\n",
    "s= sorted(input(\"Enter a string : \"))\n",
    "s = ''.join(s)\n",
    "print(s)"
   ]
  },
  {
   "cell_type": "code",
   "execution_count": 4,
   "metadata": {},
   "outputs": [
    {
     "name": "stdout",
     "output_type": "stream",
     "text": [
      "Enter a string : i3n3d4i3a4\n",
      "iiinnnddddiiiaaaa"
     ]
    }
   ],
   "source": [
    "#4 - a4b3c2 -  output - aaaabbbcc\n",
    "s=input(\"Enter a string : \")\n",
    "for i in range(0,len(s)-1,2):\n",
    "    print(s[i]*int(s[i+1]),end='')"
   ]
  },
  {
   "cell_type": "code",
   "execution_count": 15,
   "metadata": {},
   "outputs": [
    {
     "name": "stdout",
     "output_type": "stream",
     "text": [
      "Car registration no : DF345GH34\n",
      "Invalid\n"
     ]
    }
   ],
   "source": [
    "#MH14DT8745\n",
    "import re\n",
    "carno = input(\"Car registration no : \")\n",
    "c = re.fullmatch('[A-Z]{2}\\d{2}[A-Z]{2}\\d{4}',carno)\n",
    "if c!=None:\n",
    "    print(\"Valid\")\n",
    "else:\n",
    "    print(\"Invalid\")\n",
    "    \n"
   ]
  },
  {
   "cell_type": "code",
   "execution_count": null,
   "metadata": {},
   "outputs": [],
   "source": []
  },
  {
   "cell_type": "code",
   "execution_count": null,
   "metadata": {},
   "outputs": [],
   "source": []
  },
  {
   "cell_type": "code",
   "execution_count": null,
   "metadata": {},
   "outputs": [],
   "source": []
  },
  {
   "cell_type": "code",
   "execution_count": null,
   "metadata": {},
   "outputs": [],
   "source": []
  },
  {
   "cell_type": "code",
   "execution_count": null,
   "metadata": {},
   "outputs": [],
   "source": []
  },
  {
   "cell_type": "code",
   "execution_count": null,
   "metadata": {},
   "outputs": [],
   "source": []
  },
  {
   "cell_type": "code",
   "execution_count": null,
   "metadata": {},
   "outputs": [],
   "source": []
  },
  {
   "cell_type": "code",
   "execution_count": null,
   "metadata": {},
   "outputs": [],
   "source": []
  },
  {
   "cell_type": "code",
   "execution_count": null,
   "metadata": {},
   "outputs": [],
   "source": []
  },
  {
   "cell_type": "code",
   "execution_count": null,
   "metadata": {},
   "outputs": [],
   "source": []
  },
  {
   "cell_type": "code",
   "execution_count": null,
   "metadata": {},
   "outputs": [],
   "source": []
  },
  {
   "cell_type": "code",
   "execution_count": null,
   "metadata": {},
   "outputs": [],
   "source": []
  }
 ],
 "metadata": {
  "kernelspec": {
   "display_name": "Python 3",
   "language": "python",
   "name": "python3"
  },
  "language_info": {
   "codemirror_mode": {
    "name": "ipython",
    "version": 3
   },
   "file_extension": ".py",
   "mimetype": "text/x-python",
   "name": "python",
   "nbconvert_exporter": "python",
   "pygments_lexer": "ipython3",
   "version": "3.7.6"
  }
 },
 "nbformat": 4,
 "nbformat_minor": 4
}
